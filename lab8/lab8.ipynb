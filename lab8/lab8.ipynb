{
 "cells": [
  {
   "cell_type": "markdown",
   "metadata": {},
   "source": [
    "<h3>Транспортна задача</h3>\n",
    "<p>Транспортна задача є найбільш популярною задачею лінійного програмування. Найефективнішим методом аналітичного розв’язку є метод північно-західного кута та метод потенціалів.</p>\n",
    "<p>Автоматизуємо її використовуючи дані методи</p>"
   ]
  },
  {
   "cell_type": "code",
   "execution_count": 28,
   "metadata": {},
   "outputs": [],
   "source": [
    "import pandas as pd\n",
    "import numpy as np\n",
    "from scipy.optimize import linprog\n",
    "\n",
    "class TransportTask:\n",
    "    def read_task(self, filename):\n",
    "        df = pd.read_csv(filename, header=None)\n",
    "\n",
    "        self.supplies = df.iloc[-1, :-1].to_numpy()\n",
    "        self.demands = df.iloc[:-1, -1].to_numpy()\n",
    "        self.costs = df.iloc[:-1, :-1].to_numpy()\n",
    "\n",
    "    def print_matrix(self):\n",
    "        print('Supplies: ', self.supplies)\n",
    "        print('Demands: ', self.demands)\n",
    "        print('Costs:\\n', self.costs)\n",
    "\n",
    "    def solve(self):\n",
    "        # Flatten the cost matrix to 1D array\n",
    "        c = self.costs.flatten()\n",
    "\n",
    "        # Coefficients for the inequality constraints Ax <= b\n",
    "        A_eq = np.zeros((len(self.supplies) + len(self.demands), len(c)))\n",
    "        b_eq = np.zeros(len(self.supplies) + len(self.demands))\n",
    "\n",
    "        # Constraints for supplies (rows in A_eq)\n",
    "        for i in range(len(self.supplies)):\n",
    "            A_eq[i, i * len(self.demands):(i + 1) * len(self.demands)] = 1\n",
    "            b_eq[i] = self.supplies[i]\n",
    "\n",
    "        # Constraints for demands (columns in A_eq)\n",
    "        for j in range(len(self.demands)):\n",
    "            A_eq[len(self.supplies) + j, j:len(c):len(self.demands)] = 1\n",
    "            b_eq[len(self.supplies) + j] = self.demands[j]\n",
    "\n",
    "        # Bounds for decision variables (each variable is non-negative)\n",
    "        bounds = [(0, None) for _ in range(len(c))]\n",
    "\n",
    "        # Solve the linear programming problem\n",
    "        result = linprog(c, A_eq=A_eq, b_eq=b_eq, bounds=bounds, method='highs')\n",
    "\n",
    "        # Reshape the result to a matrix\n",
    "        allocation = result.x.reshape(self.costs.shape)\n",
    "\n",
    "        return allocation\n",
    "\n",
    "    def north_west(self):\n",
    "        n_suppliers = len(self.supplies)\n",
    "        n_customers = len(self.demands)\n",
    "\n",
    "        allocation = np.zeros((n_suppliers, n_customers))\n",
    "\n",
    "        i, j = 0, 0\n",
    "\n",
    "        while i < n_suppliers and j < n_customers:\n",
    "            quantity = np.min([self.supplies[i], self.demands[j]])\n",
    "            allocation[i, j] = quantity\n",
    "\n",
    "            self.supplies[i] -= quantity\n",
    "            self.demands[j] -= quantity\n",
    "\n",
    "            if self.supplies[i] == 0:\n",
    "                i += 1\n",
    "            if self.demands[j] == 0:\n",
    "                j += 1\n",
    "\n",
    "        return allocation\n"
   ]
  },
  {
   "cell_type": "markdown",
   "metadata": {},
   "source": [
    "Розв'яжемо задачу використовуючи метод північно-західного кута."
   ]
  },
  {
   "cell_type": "code",
   "execution_count": 29,
   "metadata": {},
   "outputs": [
    {
     "name": "stdout",
     "output_type": "stream",
     "text": [
      "Supplies:  [140.  90. 160. 110. 150.]\n",
      "Demands:  [230. 250. 170.]\n",
      "Costs:\n",
      " [[40 19 25 25 35]\n",
      " [49 26 27 18 38]\n",
      " [46 27 36 40 45]]\n",
      "Optimal transportation matrix:\n",
      " [[140.   0.   0.]\n",
      " [ 90.   0.   0.]\n",
      " [  0. 160.   0.]\n",
      " [  0.  90.  20.]\n",
      " [  0.   0. 150.]]\n"
     ]
    }
   ],
   "source": [
    "task1 = TransportTask()\n",
    "task1.read_task('task1.csv')\n",
    "task1.print_matrix()\n",
    "result = task1.north_west()\n",
    "print('Optimal transportation matrix:\\n', result)"
   ]
  },
  {
   "cell_type": "markdown",
   "metadata": {},
   "source": [
    "Розв'яжемо задачу використовуючи метод розв'язання задач лінійного програмування бібліотеки scipy"
   ]
  },
  {
   "cell_type": "code",
   "execution_count": 30,
   "metadata": {},
   "outputs": [
    {
     "name": "stdout",
     "output_type": "stream",
     "text": [
      "Supplies:  [210. 150. 120. 135. 135.]\n",
      "Demands:  [300. 250. 200.]\n",
      "Costs:\n",
      " [[ 4  8 13  2  7]\n",
      " [ 9  4 11  9 17]\n",
      " [ 3 16 10  1  4]]\n",
      "Optimal transportation matrix:\n",
      " [[210.   0.   0.  90.   0.]\n",
      " [ 60.   0.   0. 120.   0.]\n",
      " [135.   0.   0. 115.  20.]]\n"
     ]
    }
   ],
   "source": [
    "task2 = TransportTask()\n",
    "task2.read_task('task2.csv')\n",
    "task2.print_matrix()\n",
    "result = task2.solve()\n",
    "print('Optimal transportation matrix:\\n', result)"
   ]
  }
 ],
 "metadata": {
  "kernelspec": {
   "display_name": "conda",
   "language": "python",
   "name": "python3"
  },
  "language_info": {
   "codemirror_mode": {
    "name": "ipython",
    "version": 3
   },
   "file_extension": ".py",
   "mimetype": "text/x-python",
   "name": "python",
   "nbconvert_exporter": "python",
   "pygments_lexer": "ipython3",
   "version": "3.10.13"
  }
 },
 "nbformat": 4,
 "nbformat_minor": 2
}
