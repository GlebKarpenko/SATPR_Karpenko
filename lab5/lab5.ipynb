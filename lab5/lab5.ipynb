{
 "cells": [
  {
   "cell_type": "markdown",
   "metadata": {},
   "source": [
    "<h2>Завдання про \"Дикий Захід\"</h2>\n",
    "<p>Одного разу на «Дикому Заході» стався такий випадок. Група з п'яти індіанців обложила табір, що охороняється чотирма білими. У табори два входи Е1 і Е2. Білий розвідник встановив, що перед входом Е1 знаходиться як мінімум один індіанець, а перед входом Е2 як мінімум два індіанця. Розташування інших індіанців невідомо. Командир обложених може розташувати себе і трьох солдатів біля входів Е1 і Е2. Причому, у кожного входу повинен бути як мінімум одна людина. Передбачається, що чисельно переважаюча (у кожного входу) група бере в полон всю групу супротивника без власних втрат, в той час як при рівності сил перед будь-яким входом втрат з обох сторін немає. Як платежу (виграшу) виступає різниця числа полонених.</p>"
   ]
  },
  {
   "cell_type": "markdown",
   "metadata": {},
   "source": [
    "Приклад розв'язання задачі використовуючи numpy"
   ]
  },
  {
   "cell_type": "code",
   "execution_count": 13,
   "metadata": {},
   "outputs": [],
   "source": [
    "import numpy as np\n",
    "\n",
    "def show_best_strats(prizes):\n",
    "    max_values = np.max(prizes, axis=1)\n",
    "    min_values = np.min(prizes, axis=0)\n",
    "    \n",
    "    maxmin = np.max(min_values)\n",
    "    minmax = np.min(max_values)\n",
    "\n",
    "    print('maxmin:', maxmin)\n",
    "    print('minmax:', minmax)\n",
    "\n",
    "\n",
    "    description = 'n of optimal player{} strategy: {}'\n",
    "    print(description.format(1, np.where(max_values == minmax)[0] + 1))\n",
    "    print(description.format(2, np.where(min_values == maxmin)[0] + 1))\n",
    "\n",
    "task1_prizes = np.array([\n",
    "    [  1,  9,  6,  0],\n",
    "    [ -2,  3,  8, -4],\n",
    "    [ -5, -2, 10, -3],\n",
    "    [  7,  4, -2, -5]\n",
    "])\n",
    "\n",
    "task2_prizes = np.array([\n",
    "    [ -3, -1,  0],\n",
    "    [ -1, -2,  1],\n",
    "    [  1, -2, -1]\n",
    "])\n"
   ]
  },
  {
   "cell_type": "markdown",
   "metadata": {},
   "source": [
    "Розв'язок для задачі №1"
   ]
  },
  {
   "cell_type": "code",
   "execution_count": 14,
   "metadata": {},
   "outputs": [
    {
     "name": "stdout",
     "output_type": "stream",
     "text": [
      "maxmin: -2\n",
      "minmax: 7\n",
      "n of optimal player1 strategy: [4]\n",
      "n of optimal player2 strategy: [2 3]\n"
     ]
    }
   ],
   "source": [
    "show_best_strats(task1_prizes)"
   ]
  },
  {
   "cell_type": "markdown",
   "metadata": {},
   "source": [
    "Розв'язок для задачі №2"
   ]
  },
  {
   "cell_type": "code",
   "execution_count": 15,
   "metadata": {},
   "outputs": [
    {
     "name": "stdout",
     "output_type": "stream",
     "text": [
      "maxmin: -1\n",
      "minmax: 0\n",
      "n of optimal player1 strategy: [1]\n",
      "n of optimal player2 strategy: [3]\n"
     ]
    }
   ],
   "source": [
    "show_best_strats(task2_prizes)"
   ]
  }
 ],
 "metadata": {
  "kernelspec": {
   "display_name": "conda",
   "language": "python",
   "name": "python3"
  },
  "language_info": {
   "codemirror_mode": {
    "name": "ipython",
    "version": 3
   },
   "file_extension": ".py",
   "mimetype": "text/x-python",
   "name": "python",
   "nbconvert_exporter": "python",
   "pygments_lexer": "ipython3",
   "version": "3.10.13"
  }
 },
 "nbformat": 4,
 "nbformat_minor": 2
}
