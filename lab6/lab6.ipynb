{
 "cells": [
  {
   "cell_type": "markdown",
   "metadata": {},
   "source": [
    "<h3>Розв'язання задачі про призначення</h3>\n",
    "<p>Фірма отримала замовлення щодо розроблення п'яти програмних продуктів. На фірмі працюють п'ять кваліфікованих програмістів, яким можна доручити виконання цих замовлень. Кожен програміст дав оцінку часу, що йому потрібно відносно розробки програм. Ці оцінки наведені у таблиці.</p>"
   ]
  },
  {
   "cell_type": "code",
   "execution_count": 16,
   "metadata": {},
   "outputs": [
    {
     "name": "stdout",
     "output_type": "stream",
     "text": [
      "              program1  program2  program3  program4  program5\n",
      "Programmers:                                                  \n",
      "Pavlenko            46        59        24        62        67\n",
      "Ivanchenko          47        56        32        55        70\n",
      "Sydorchenko         44        52        19        61        60\n",
      "Zaychenko           47        59        17        64        73\n",
      "Braytenko           43        65        20        60        75\n"
     ]
    }
   ],
   "source": [
    "import pandas as pd\n",
    "import numpy as np\n",
    "from scipy.optimize import linear_sum_assignment\n",
    "\n",
    "df = pd.read_csv('task.csv')\n",
    "df.set_index(\"Programmers:\", inplace=True)\n",
    "\n",
    "print(df)"
   ]
  },
  {
   "cell_type": "markdown",
   "metadata": {},
   "source": [
    "Данні також можна представити у вигляді матриці"
   ]
  },
  {
   "cell_type": "code",
   "execution_count": 17,
   "metadata": {},
   "outputs": [
    {
     "name": "stdout",
     "output_type": "stream",
     "text": [
      "[[46 59 24 62 67]\n",
      " [47 56 32 55 70]\n",
      " [44 52 19 61 60]\n",
      " [47 59 17 64 73]\n",
      " [43 65 20 60 75]]\n"
     ]
    }
   ],
   "source": [
    "time_matrix = df.to_numpy()\n",
    "print(time_matrix)"
   ]
  },
  {
   "cell_type": "markdown",
   "metadata": {},
   "source": [
    "Використаємо угорський алгоритм для визначення оптимального розподілення завдань"
   ]
  },
  {
   "cell_type": "code",
   "execution_count": 18,
   "metadata": {},
   "outputs": [
    {
     "name": "stdout",
     "output_type": "stream",
     "text": [
      "Pavlenko is assigned to program5\n",
      "Ivanchenko is assigned to program4\n",
      "Sydorchenko is assigned to program2\n",
      "Zaychenko is assigned to program3\n",
      "Braytenko is assigned to program1\n"
     ]
    }
   ],
   "source": [
    "row_ind, col_ind = linear_sum_assignment(time_matrix)\n",
    "\n",
    "assigments = {}\n",
    "for i, j in zip(row_ind, col_ind):\n",
    "    assigments[df.index[i]] = df.columns[j]\n",
    "\n",
    "for programmer, program in  assigments.items():\n",
    "    print(f'{programmer} is assigned to {program}')"
   ]
  }
 ],
 "metadata": {
  "kernelspec": {
   "display_name": "conda",
   "language": "python",
   "name": "python3"
  },
  "language_info": {
   "codemirror_mode": {
    "name": "ipython",
    "version": 3
   },
   "file_extension": ".py",
   "mimetype": "text/x-python",
   "name": "python",
   "nbconvert_exporter": "python",
   "pygments_lexer": "ipython3",
   "version": "3.10.13"
  }
 },
 "nbformat": 4,
 "nbformat_minor": 2
}
